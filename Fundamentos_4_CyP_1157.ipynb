{
  "nbformat": 4,
  "nbformat_minor": 0,
  "metadata": {
    "colab": {
      "name": "Fundamentos_4 CyP_1157.ipynb",
      "provenance": [],
      "authorship_tag": "ABX9TyMoKl2z4AA7GRtbEhMnh5zL",
      "include_colab_link": true
    },
    "kernelspec": {
      "name": "python3",
      "display_name": "Python 3"
    },
    "language_info": {
      "name": "python"
    }
  },
  "cells": [
    {
      "cell_type": "markdown",
      "metadata": {
        "id": "view-in-github",
        "colab_type": "text"
      },
      "source": [
        "<a href=\"https://colab.research.google.com/github/Karla-Valentin/Clase-2-12-21/blob/main/Fundamentos_4_CyP_1157.ipynb\" target=\"_parent\"><img src=\"https://colab.research.google.com/assets/colab-badge.svg\" alt=\"Open In Colab\"/></a>"
      ]
    },
    {
      "cell_type": "markdown",
      "metadata": {
        "id": "uE_qU_nTUIP4"
      },
      "source": [
        "#Modularidad (funciones)\n",
        "\n",
        "Una función es una unidad de código reutilizable, ademas de ser un mecanismo para organizar código.\n",
        "\n",
        "La gran ventaja de emplear funciones es simplificar la programación.\n",
        "\n",
        "### Estructura\n",
        "Una función puede tomar cualquier cantidad de parametros de entrada (de cualquier tipo) y retornar unicamente un solovalor de cualquier tipo de dato.\n",
        "Un parametro de entrada es un valor que recibe la función para realizar sus operaciones. \n",
        "\n",
        "Con una función se pueden hacer 2 cosas :     \n",
        "1. Definirla \n",
        "2. Invocarla (ejecutarla)\n",
        "\n",
        "La gran ventaja de tener una función declarada es que la podemos reutilizar cuando se desee"
      ]
    },
    {
      "cell_type": "code",
      "metadata": {
        "id": "ZajzeoMxUAl9"
      },
      "source": [
        "#Ejemplo funcion de sumar enteros\n",
        "def sumar(op1 , op2): #función sumar y parametros op1 y op2\n",
        "    res = op1 + op2\n",
        "    return res"
      ],
      "execution_count": 1,
      "outputs": []
    },
    {
      "cell_type": "code",
      "metadata": {
        "colab": {
          "base_uri": "https://localhost:8080/"
        },
        "id": "CrvfjWPZYBrA",
        "outputId": "ad053ff3-4381-4af0-d8aa-bd707edaac13"
      },
      "source": [
        "res = sumar(2 , 5)\n",
        "print(res)\n",
        "res = sumar(33 , 22)#La puedo mandar a llamar más veces\n",
        "print(res)"
      ],
      "execution_count": 3,
      "outputs": [
        {
          "output_type": "stream",
          "name": "stdout",
          "text": [
            "7\n",
            "55\n"
          ]
        }
      ]
    },
    {
      "cell_type": "code",
      "metadata": {
        "colab": {
          "base_uri": "https://localhost:8080/"
        },
        "id": "4RsULtxaaRuo",
        "outputId": "db7e0f37-a91c-4420-f02b-ab109c73014a"
      },
      "source": [
        "def imprime_cuadro():\n",
        "    print(\"****\")\n",
        "    print(\"****\")\n",
        "    print(\"****\")\n",
        "    print(\"****\")\n",
        "imprime_cuadro()    "
      ],
      "execution_count": 4,
      "outputs": [
        {
          "output_type": "stream",
          "name": "stdout",
          "text": [
            "****\n",
            "****\n",
            "****\n",
            "****\n"
          ]
        }
      ]
    },
    {
      "cell_type": "markdown",
      "metadata": {
        "id": "5n3-iO8ia-2C"
      },
      "source": [
        "# valor de retrno de una función\n",
        "\n",
        "Una función siempre retorna un solo valor, inclusive si ese valor es el vacio"
      ]
    },
    {
      "cell_type": "code",
      "metadata": {
        "colab": {
          "base_uri": "https://localhost:8080/"
        },
        "id": "9Z8OiCGIbLOA",
        "outputId": "b989de68-90b1-4e47-c418-5aee5ae46ec3"
      },
      "source": [
        "# invocar sumar\n",
        "res = sumar(7 , 8)\n",
        "print(res)\n",
        "#Invocar la función pintar cuadro  \n",
        "res = imprime_cuadro()\n",
        "print(res)\n"
      ],
      "execution_count": 5,
      "outputs": [
        {
          "output_type": "stream",
          "name": "stdout",
          "text": [
            "15\n",
            "****\n",
            "****\n",
            "****\n",
            "****\n",
            "None\n"
          ]
        }
      ]
    },
    {
      "cell_type": "markdown",
      "metadata": {
        "id": "uLA-vI-vdGLx"
      },
      "source": [
        "# La palabra reservada None de python\n",
        "Esta palabra reservada significa vacío, equivalente a la palabra reservada void del lenguaje C, C++ y Java.\n",
        "\n",
        "Se usa para indicar ya sea un return vacío o que se recibe como parametro un vacío. "
      ]
    },
    {
      "cell_type": "code",
      "metadata": {
        "id": "utJKK2F-d45w"
      },
      "source": [
        "def multiplicar( valor , veces ):\n",
        "    c = valor * veces\n",
        "    return c"
      ],
      "execution_count": 6,
      "outputs": []
    },
    {
      "cell_type": "code",
      "metadata": {
        "colab": {
          "base_uri": "https://localhost:8080/"
        },
        "id": "Eawu3gBUeH96",
        "outputId": "f3e6ac04-4d7e-4f93-b6c2-45d1a8b400a3"
      },
      "source": [
        "res = multiplicar( 5, 5)\n",
        "print(res)"
      ],
      "execution_count": 7,
      "outputs": [
        {
          "output_type": "stream",
          "name": "stdout",
          "text": [
            "25\n"
          ]
        }
      ]
    },
    {
      "cell_type": "code",
      "metadata": {
        "id": "BG7EhYupeuc8"
      },
      "source": [
        "def multiplicar( valor , veces ):\n",
        "    if valor == None:\n",
        "        c = -1\n",
        "    else: \n",
        "        c = valor * veces\n",
        "    return c"
      ],
      "execution_count": 8,
      "outputs": []
    },
    {
      "cell_type": "code",
      "metadata": {
        "colab": {
          "base_uri": "https://localhost:8080/"
        },
        "id": "T8Ww1C1gfAVq",
        "outputId": "1010cdf6-d008-40af-b1b7-0b18fb8e9961"
      },
      "source": [
        "res = multiplicar( None, 5)\n",
        "print(res)"
      ],
      "execution_count": 9,
      "outputs": [
        {
          "output_type": "stream",
          "name": "stdout",
          "text": [
            "-1\n"
          ]
        }
      ]
    },
    {
      "cell_type": "markdown",
      "metadata": {
        "id": "M4FLaoHafgWA"
      },
      "source": [
        "# Parámetros y argumentos:      \n",
        "Son conceptos relacionados y su diferencia esta centrada en el momento en que se emplea en una función. \n",
        "\n",
        "Es decir, en la función sumar de arriba cuando se declara se le llama parámetro y cuando se invoca se le llama argumento. "
      ]
    },
    {
      "cell_type": "markdown",
      "metadata": {
        "id": "0Exfe_AcfaEU"
      },
      "source": [
        "# Parámetros posicionales\n",
        "\n",
        "En Python es posible determinar a qué parámetros estan dirigidos los argumentos segun su posición.\n"
      ]
    },
    {
      "cell_type": "code",
      "metadata": {
        "id": "kzOFEauGgo5y"
      },
      "source": [
        "def dividir(op1 , op2):\n",
        "    c = op1/op2\n",
        "    return c"
      ],
      "execution_count": 10,
      "outputs": []
    },
    {
      "cell_type": "code",
      "metadata": {
        "colab": {
          "base_uri": "https://localhost:8080/"
        },
        "id": "bu3XGCuYg1Vk",
        "outputId": "04114ed6-d1b8-40a5-c0b0-349941d05be5"
      },
      "source": [
        "num1 = 25\n",
        "num2 = 5\n",
        "res = dividir(num1, num2 )\n",
        "print(res)\n",
        "res = dividir(num2, num1 ) #Cambia porque el orden tambien cambió\n",
        "print(res)"
      ],
      "execution_count": 13,
      "outputs": [
        {
          "output_type": "stream",
          "name": "stdout",
          "text": [
            "5.0\n",
            "0.2\n"
          ]
        }
      ]
    },
    {
      "cell_type": "markdown",
      "metadata": {
        "id": "szFlJVgfhT8i"
      },
      "source": [
        "# Argumentos con palabras clave (keywords)\n",
        "\n",
        "Es la posibilidad de indicarle a la función en tiempo de ejecución a qué parámetro va dirigido un argumento de entrada.\n",
        "\n",
        "Solo disponible en Python.\n"
      ]
    },
    {
      "cell_type": "code",
      "metadata": {
        "colab": {
          "base_uri": "https://localhost:8080/"
        },
        "id": "sG_TyzvNhTXE",
        "outputId": "b4dc0f4b-32ca-444e-bc67-47927c05f0b2"
      },
      "source": [
        "res = dividir(op2=num2, op1=num1 ) \n",
        "print(res)"
      ],
      "execution_count": 14,
      "outputs": [
        {
          "output_type": "stream",
          "name": "stdout",
          "text": [
            "5.0\n"
          ]
        }
      ]
    }
  ]
}